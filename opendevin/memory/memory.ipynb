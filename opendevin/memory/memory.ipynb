{
 "cells": [
  {
   "cell_type": "code",
   "execution_count": 2,
   "metadata": {},
   "outputs": [],
   "source": [
    "# Load Libraries\n",
    "import importlib\n",
    "import inspect\n",
    "import json\n",
    "import logging\n",
    "import pkgutil\n",
    "import re\n",
    "\n",
    "import chromadb\n",
    "import chromadb.utils.embedding_functions as embedding_functions\n",
    "import openai\n",
    "from langchain.docstore.document import Document\n",
    "from langchain.embeddings import __path__ as embeddings_path\n",
    "from langchain.schema.embeddings import Embeddings\n",
    "from langchain_community.vectorstores import Chroma\n",
    "from opendevin.memory.memory import LongTermMemory, ChromaEmbeddingLoader, EmbeddingLoader\n"
   ]
  },
  {
   "cell_type": "code",
   "execution_count": 3,
   "metadata": {},
   "outputs": [
    {
     "name": "stdout",
     "output_type": "stream",
     "text": [
      "/Users/enyst/Library/Caches/pypoetry/virtualenvs/opendevin-EKSafskD-py3.12/bin/python3\n"
     ]
    }
   ],
   "source": [
    "import sys\n",
    "print(sys.executable)"
   ]
  },
  {
   "cell_type": "markdown",
   "metadata": {},
   "source": [
    "Testing section"
   ]
  },
  {
   "cell_type": "code",
   "execution_count": 5,
   "metadata": {},
   "outputs": [
    {
     "name": "stderr",
     "output_type": "stream",
     "text": [
      "\u001b[92m01:46:09 - opendevin.memory.memory:INFO\u001b[0m: memory.py:62 - __call__ (self, self)\n",
      "\u001b[92m01:46:09 - opendevin.memory.memory:INFO\u001b[0m: memory.py:62 - __call__ (self, self)\n",
      "\u001b[92m01:46:09 - opendevin.memory.memory:INFO\u001b[0m: memory.py:62 - __call__ (self, self)\n",
      "\u001b[92m01:46:09 - opendevin.memory.memory:INFO\u001b[0m: memory.py:62 - __call__ (self, self)\n",
      "\u001b[92m01:46:09 - opendevin.memory.memory:INFO\u001b[0m: memory.py:62 - __call__ (self, self)\n",
      "\u001b[92m01:46:09 - opendevin.memory.memory:INFO\u001b[0m: memory.py:62 - __call__ (self, self)\n",
      "\u001b[92m01:46:09 - opendevin.memory.memory:INFO\u001b[0m: memory.py:62 - __call__ (self, self)\n",
      "\u001b[92m01:46:09 - opendevin.memory.memory:INFO\u001b[0m: memory.py:62 - __call__ (self, self)\n",
      "\u001b[92m01:46:09 - opendevin.memory.memory:INFO\u001b[0m: memory.py:62 - __call__ (self, self)\n",
      "\u001b[92m01:46:09 - opendevin.memory.memory:INFO\u001b[0m: memory.py:62 - __call__ (self, self)\n",
      "\u001b[92m01:46:09 - opendevin.memory.memory:INFO\u001b[0m: memory.py:62 - __call__ (self, self)\n",
      "\u001b[92m01:46:09 - opendevin.memory.memory:INFO\u001b[0m: memory.py:62 - __call__ (self, self)\n",
      "\u001b[92m01:46:09 - opendevin.memory.memory:INFO\u001b[0m: memory.py:62 - __call__ (self, self)\n",
      "\u001b[92m01:46:09 - opendevin.memory.memory:INFO\u001b[0m: memory.py:62 - __call__ (self, self)\n",
      "\u001b[92m01:46:09 - opendevin.memory.memory:INFO\u001b[0m: memory.py:62 - __call__ (self, self)\n"
     ]
    },
    {
     "name": "stdout",
     "output_type": "stream",
     "text": [
      "AmazonBedrockEmbeddingFunction\n",
      "CohereEmbeddingFunction\n",
      "EmbeddingFunction\n",
      "GoogleGenerativeAiEmbeddingFunction\n",
      "GooglePalmEmbeddingFunction\n",
      "GoogleVertexEmbeddingFunction\n",
      "HuggingFaceEmbeddingFunction\n",
      "InstructorEmbeddingFunction\n",
      "JinaEmbeddingFunction\n",
      "OllamaEmbeddingFunction\n",
      "OpenAIEmbeddingFunction\n",
      "OpenCLIPEmbeddingFunction\n",
      "RoboflowEmbeddingFunction\n",
      "SentenceTransformerEmbeddingFunction\n",
      "Text2VecEmbeddingFunction\n",
      "{\n",
      "  \"AmazonBedrockEmbeddingFunction\": [\n",
      "    \"session\",\n",
      "    \"model_name\",\n",
      "    \"kwargs\"\n",
      "  ],\n",
      "  \"CohereEmbeddingFunction\": [\n",
      "    \"api_key\",\n",
      "    \"model_name\"\n",
      "  ],\n",
      "  \"EmbeddingFunction\": [\n",
      "    \"args\",\n",
      "    \"kwargs\"\n",
      "  ],\n",
      "  \"GoogleGenerativeAiEmbeddingFunction\": [\n",
      "    \"api_key\",\n",
      "    \"model_name\",\n",
      "    \"task_type\"\n",
      "  ],\n",
      "  \"GooglePalmEmbeddingFunction\": [\n",
      "    \"api_key\",\n",
      "    \"model_name\"\n",
      "  ],\n",
      "  \"GoogleVertexEmbeddingFunction\": [\n",
      "    \"api_key\",\n",
      "    \"model_name\",\n",
      "    \"project_id\",\n",
      "    \"region\"\n",
      "  ],\n",
      "  \"HuggingFaceEmbeddingFunction\": [\n",
      "    \"api_key\",\n",
      "    \"model_name\"\n",
      "  ],\n",
      "  \"InstructorEmbeddingFunction\": [\n",
      "    \"model_name\",\n",
      "    \"device\",\n",
      "    \"instruction\"\n",
      "  ],\n",
      "  \"JinaEmbeddingFunction\": [\n",
      "    \"api_key\",\n",
      "    \"model_name\"\n",
      "  ],\n",
      "  \"OllamaEmbeddingFunction\": [\n",
      "    \"url\",\n",
      "    \"model_name\"\n",
      "  ],\n",
      "  \"OpenAIEmbeddingFunction\": [\n",
      "    \"api_key\",\n",
      "    \"model_name\",\n",
      "    \"organization_id\",\n",
      "    \"api_base\",\n",
      "    \"api_type\",\n",
      "    \"api_version\",\n",
      "    \"deployment_id\",\n",
      "    \"default_headers\"\n",
      "  ],\n",
      "  \"OpenCLIPEmbeddingFunction\": [\n",
      "    \"model_name\",\n",
      "    \"checkpoint\",\n",
      "    \"device\"\n",
      "  ],\n",
      "  \"RoboflowEmbeddingFunction\": [\n",
      "    \"api_key\",\n",
      "    \"api_url\"\n",
      "  ],\n",
      "  \"SentenceTransformerEmbeddingFunction\": [\n",
      "    \"model_name\",\n",
      "    \"device\",\n",
      "    \"normalize_embeddings\",\n",
      "    \"kwargs\"\n",
      "  ],\n",
      "  \"Text2VecEmbeddingFunction\": [\n",
      "    \"model_name\"\n",
      "  ]\n",
      "}\n"
     ]
    },
    {
     "ename": "TypeError",
     "evalue": "Instance and class checks can only be used with @runtime_checkable protocols",
     "output_type": "error",
     "traceback": [
      "\u001b[0;31m---------------------------------------------------------------------------\u001b[0m",
      "\u001b[0;31mTypeError\u001b[0m                                 Traceback (most recent call last)",
      "Cell \u001b[0;32mIn[5], line 11\u001b[0m\n\u001b[1;32m      9\u001b[0m \u001b[38;5;66;03m# Test a specific embedding function\u001b[39;00m\n\u001b[1;32m     10\u001b[0m openai_kwargs \u001b[38;5;241m=\u001b[39m {\u001b[38;5;124m\"\u001b[39m\u001b[38;5;124mopenai_api_key\u001b[39m\u001b[38;5;124m\"\u001b[39m: \u001b[38;5;124m\"\u001b[39m\u001b[38;5;124mYOUR_OPENAI_API_KEY\u001b[39m\u001b[38;5;124m\"\u001b[39m}  \u001b[38;5;66;03m# Replace with your key\u001b[39;00m\n\u001b[0;32m---> 11\u001b[0m embedding_function \u001b[38;5;241m=\u001b[39m \u001b[43mchroma_loader\u001b[49m\u001b[38;5;241;43m.\u001b[39;49m\u001b[43mget_embedding_function\u001b[49m\u001b[43m(\u001b[49m\n\u001b[1;32m     12\u001b[0m \u001b[43m    \u001b[49m\u001b[38;5;124;43m\"\u001b[39;49m\u001b[38;5;124;43mOpenAIEmbeddingFunction\u001b[39;49m\u001b[38;5;124;43m\"\u001b[39;49m\u001b[43m,\u001b[49m\u001b[43m \u001b[49m\u001b[38;5;241;43m*\u001b[39;49m\u001b[38;5;241;43m*\u001b[39;49m\u001b[43mopenai_kwargs\u001b[49m\n\u001b[1;32m     13\u001b[0m \u001b[43m)\u001b[49m\n\u001b[1;32m     14\u001b[0m embeddings \u001b[38;5;241m=\u001b[39m embedding_function([\u001b[38;5;124m\"\u001b[39m\u001b[38;5;124mHello\u001b[39m\u001b[38;5;124m\"\u001b[39m, \u001b[38;5;124m\"\u001b[39m\u001b[38;5;124mworld\u001b[39m\u001b[38;5;124m\"\u001b[39m])\n\u001b[1;32m     15\u001b[0m \u001b[38;5;28mprint\u001b[39m(\u001b[38;5;124m\"\u001b[39m\u001b[38;5;124mOpenAI Embeddings:\u001b[39m\u001b[38;5;124m\"\u001b[39m, embeddings)\n",
      "File \u001b[0;32m~/repos/devin/opendevin/memory/memory.py:37\u001b[0m, in \u001b[0;36mChromaEmbeddingLoader.get_embedding_function\u001b[0;34m(embedding_type, **kwargs)\u001b[0m\n\u001b[1;32m     34\u001b[0m     embedding_type \u001b[38;5;241m=\u001b[39m config\u001b[38;5;241m.\u001b[39mllm\u001b[38;5;241m.\u001b[39membedding_type\n\u001b[1;32m     36\u001b[0m \u001b[38;5;28;01mfor\u001b[39;00m name, obj \u001b[38;5;129;01min\u001b[39;00m inspect\u001b[38;5;241m.\u001b[39mgetmembers(embedding_functions):\n\u001b[0;32m---> 37\u001b[0m     \u001b[38;5;28;01mif\u001b[39;00m inspect\u001b[38;5;241m.\u001b[39misclass(obj) \u001b[38;5;129;01mand\u001b[39;00m \u001b[38;5;28;43missubclass\u001b[39;49m\u001b[43m(\u001b[49m\n\u001b[1;32m     38\u001b[0m \u001b[43m        \u001b[49m\u001b[43mobj\u001b[49m\u001b[43m,\u001b[49m\u001b[43m \u001b[49m\u001b[43membedding_functions\u001b[49m\u001b[38;5;241;43m.\u001b[39;49m\u001b[43mEmbeddingFunction\u001b[49m\n\u001b[1;32m     39\u001b[0m \u001b[43m    \u001b[49m\u001b[43m)\u001b[49m:\n\u001b[1;32m     40\u001b[0m         \u001b[38;5;28;01mif\u001b[39;00m obj\u001b[38;5;241m.\u001b[39m\u001b[38;5;18m__name__\u001b[39m\u001b[38;5;241m.\u001b[39mlower() \u001b[38;5;241m==\u001b[39m embedding_type\u001b[38;5;241m.\u001b[39mlower():\n\u001b[1;32m     41\u001b[0m             \u001b[38;5;28;01mreturn\u001b[39;00m obj(\u001b[38;5;241m*\u001b[39m\u001b[38;5;241m*\u001b[39mkwargs)\n",
      "File \u001b[0;32m~/Library/Caches/pypoetry/virtualenvs/opendevin-EKSafskD-py3.12/lib/python3.12/site-packages/typing_extensions.py:539\u001b[0m, in \u001b[0;36m_ProtocolMeta.__subclasscheck__\u001b[0;34m(cls, other)\u001b[0m\n\u001b[1;32m    537\u001b[0m \u001b[38;5;28;01mif\u001b[39;00m \u001b[38;5;129;01mnot\u001b[39;00m \u001b[38;5;28mgetattr\u001b[39m(\u001b[38;5;28mcls\u001b[39m, \u001b[38;5;124m'\u001b[39m\u001b[38;5;124m_is_runtime_protocol\u001b[39m\u001b[38;5;124m'\u001b[39m, \u001b[38;5;28;01mFalse\u001b[39;00m):\n\u001b[1;32m    538\u001b[0m     _type_check_issubclass_arg_1(other)\n\u001b[0;32m--> 539\u001b[0m     \u001b[38;5;28;01mraise\u001b[39;00m \u001b[38;5;167;01mTypeError\u001b[39;00m(\n\u001b[1;32m    540\u001b[0m         \u001b[38;5;124m\"\u001b[39m\u001b[38;5;124mInstance and class checks can only be used with \u001b[39m\u001b[38;5;124m\"\u001b[39m\n\u001b[1;32m    541\u001b[0m         \u001b[38;5;124m\"\u001b[39m\u001b[38;5;124m@runtime_checkable protocols\u001b[39m\u001b[38;5;124m\"\u001b[39m\n\u001b[1;32m    542\u001b[0m     )\n\u001b[1;32m    543\u001b[0m \u001b[38;5;28;01mif\u001b[39;00m (\n\u001b[1;32m    544\u001b[0m     \u001b[38;5;66;03m# this attribute is set by @runtime_checkable:\u001b[39;00m\n\u001b[1;32m    545\u001b[0m     \u001b[38;5;28mcls\u001b[39m\u001b[38;5;241m.\u001b[39m__non_callable_proto_members__\n\u001b[1;32m    546\u001b[0m     \u001b[38;5;129;01mand\u001b[39;00m \u001b[38;5;28mcls\u001b[39m\u001b[38;5;241m.\u001b[39m\u001b[38;5;18m__dict__\u001b[39m\u001b[38;5;241m.\u001b[39mget(\u001b[38;5;124m\"\u001b[39m\u001b[38;5;124m__subclasshook__\u001b[39m\u001b[38;5;124m\"\u001b[39m) \u001b[38;5;129;01mis\u001b[39;00m _proto_hook\n\u001b[1;32m    547\u001b[0m ):\n\u001b[1;32m    548\u001b[0m     _type_check_issubclass_arg_1(other)\n",
      "\u001b[0;31mTypeError\u001b[0m: Instance and class checks can only be used with @runtime_checkable protocols"
     ]
    }
   ],
   "source": [
    "\n",
    "# Setup Logging\n",
    "logging.basicConfig(level=logging.INFO)\n",
    "\n",
    "# --- Testing Section ---\n",
    "# Test Chroma Embeddings\n",
    "chroma_loader = ChromaEmbeddingLoader()\n",
    "chroma_loader.print_all_embedding_functions()\n",
    "\n",
    "# Test a specific embedding function\n",
    "openai_kwargs = {\"openai_api_key\": \"YOUR_OPENAI_API_KEY\"}\n",
    "embedding_function = chroma_loader.get_embedding_function(\n",
    "    \"OpenAIEmbeddingFunction\", **openai_kwargs\n",
    ")\n",
    "embeddings = embedding_function([\"Hello\", \"world\"])\n",
    "print(\"OpenAI Embeddings:\", embeddings)\n",
    "\n",
    "# Test LangChain Embeddings\n",
    "embed_loader = EmbeddingLoader()\n",
    "embed_loader.examples()  # Runs your example usage from EmbeddingLoader\n",
    "\n",
    "# Test LongTermMemory\n",
    "memory = LongTermMemory(embedding_type=\"openai\", **openai_kwargs)\n",
    "memory.add_docs([{\"text\": \"This is a test document.\"}, {\"text\": \"Another document.\"}])\n",
    "results = memory.search(\"test\")\n",
    "print(\"Search results:\", results)\n"
   ]
  }
 ],
 "metadata": {
  "kernelspec": {
   "display_name": "opendevin-EKSafskD-py3.12",
   "language": "python",
   "name": "python3"
  },
  "language_info": {
   "codemirror_mode": {
    "name": "ipython",
    "version": 3
   },
   "file_extension": ".py",
   "mimetype": "text/x-python",
   "name": "python",
   "nbconvert_exporter": "python",
   "pygments_lexer": "ipython3",
   "version": "3.12.2"
  }
 },
 "nbformat": 4,
 "nbformat_minor": 2
}
